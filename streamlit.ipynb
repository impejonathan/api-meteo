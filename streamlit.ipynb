{
 "cells": [
  {
   "cell_type": "code",
   "execution_count": 1,
   "metadata": {},
   "outputs": [],
   "source": [
    "import streamlit as st\n",
    "import requests\n",
    "import json\n",
    "import requests\n",
    "import pandas as pd\n",
    "from dotenv import load_dotenv\n",
    "import os\n",
    "import sqlite3\n",
    "pd.set_option('display.max_columns', None)    \n",
    "\n",
    "load_dotenv()  # charge les variables d'environnement à partir du fichier .env\n",
    "api_key = os.getenv('API_KEY')  # récupère la valeur de la variable d'environnement API_KEY\n",
    "\n",
    "\n",
    "# fonction pour récupérer les données météorologiques pour une ville donnée\n",
    "def get_weather(city):\n",
    "    url = f\"http://api.openweathermap.org/data/2.5/weather?q={city}&units=metric&appid={api_key}\"\n",
    "    response = requests.get(url)\n",
    "    if response.status_code == 200:\n",
    "        data = json.loads(response.text)\n",
    "        return data\n",
    "    else:\n",
    "        return None\n",
    "\n",
    "# définition de l'application Streamlit\n",
    "def app():\n",
    "    st.title('Informations météorologiques')\n",
    "\n",
    "    # sélection de la ville\n",
    "    city = st.selectbox('Sélectionnez une ville', ['Paris', 'Marseille', 'Lyon', 'Toulouse', 'Nice', 'Nantes', 'Strasbourg', 'Montpellier', 'Bordeaux', 'Lille'])\n",
    "\n",
    "    # récupération des données météorologiques pour la ville sélectionnée\n",
    "    weather_data = get_weather(city)\n",
    "\n",
    "    if weather_data:\n",
    "        # affichage des informations météorologiques\n",
    "        st.write(f\"**Ville :** {city}\")\n",
    "        st.write(f\"**Température actuelle :** {weather_data['main']['temp']} °C\")\n",
    "        st.write(f\"**Température ressentie :** {weather_data['main']['feels_like']} °C\")\n",
    "        st.write(f\"**Température minimale :** {weather_data['main']['temp_min']} °C\")\n",
    "        st.write(f\"**Température maximale :** {weather_data['main']['temp_max']} °C\")\n",
    "        st.write(f\"**Pression atmosphérique :** {weather_data['main']['pressure']} hPa\")\n",
    "        st.write(f\"**Humidité :** {weather_data['main']['humidity']} %\")\n",
    "        st.write(f\"**Vitesse du vent :** {weather_data['wind']['speed']} m/s\")\n",
    "        st.write(f\"**Direction du vent :** {weather_data['wind']['deg']} °\")\n",
    "    else:\n",
    "        st.write(\"Impossible de récupérer les données météorologiques pour cette ville.\")\n"
   ]
  }
 ],
 "metadata": {
  "kernelspec": {
   "display_name": "base",
   "language": "python",
   "name": "python3"
  },
  "language_info": {
   "codemirror_mode": {
    "name": "ipython",
    "version": 3
   },
   "file_extension": ".py",
   "mimetype": "text/x-python",
   "name": "python",
   "nbconvert_exporter": "python",
   "pygments_lexer": "ipython3",
   "version": "3.10.8"
  },
  "orig_nbformat": 4
 },
 "nbformat": 4,
 "nbformat_minor": 2
}
